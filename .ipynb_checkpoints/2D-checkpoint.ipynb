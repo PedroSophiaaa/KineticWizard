{
 "cells": [
  {
   "cell_type": "code",
   "execution_count": 1,
   "id": "1be8d7b9-cf7a-47ed-9e1a-31afecafdb4a",
   "metadata": {
    "tags": []
   },
   "outputs": [
    {
     "name": "stdout",
     "output_type": "stream",
     "text": [
      "pygame 2.5.0 (SDL 2.28.0, Python 3.10.6)\n",
      "Hello from the pygame community. https://www.pygame.org/contribute.html\n"
     ]
    }
   ],
   "source": [
    "# Importações\n",
    "\n",
    "import pygame\n",
    "import random\n",
    "import math\n",
    "import numpy as np\n",
    "import matplotlib.pyplot as plt"
   ]
  },
  {
   "cell_type": "code",
   "execution_count": 2,
   "id": "371408c2-359a-499c-ba5c-8ab4f583478f",
   "metadata": {},
   "outputs": [],
   "source": [
    "class Atom:\n",
    "    def __init__(self, x, y, radius):\n",
    "        self.x = x\n",
    "        self.y = y\n",
    "        self.radius = radius\n",
    "        self.temperature = temperature\n",
    "        self.mass = 1\n",
    "        \n",
    "        # Defini em Gauss\n",
    "        # Trocar para boltzmann\n",
    "        self.speed = random.gauss(0, math.sqrt(self.temperature))\n",
    "        # self.speed = random.uniform(-box_right,box_right)\n",
    "        self.angle = random.uniform(0, 2*math.pi)\n",
    "\n",
    "    def move(self):\n",
    "        self.x += self.speed * math.cos(self.angle)\n",
    "        self.y += self.speed * math.sin(self.angle)\n",
    "        \n",
    "        if self.x <= box_left + self.radius:\n",
    "            self.x = box_left + self.radius\n",
    "            self.angle = math.pi - self.angle\n",
    "        elif self.x >= box_right - self.radius:\n",
    "            self.x = box_right - self.radius\n",
    "            self.angle = math.pi - self.angle\n",
    "        if self.y <= box_top + self.radius:\n",
    "            self.y = box_top + self.radius\n",
    "            self.angle = -self.angle\n",
    "        elif self.y >= box_bottom - self.radius:\n",
    "            self.y = box_bottom - self.radius\n",
    "            self.angle = -self.angle"
   ]
  },
  {
   "cell_type": "code",
   "execution_count": 3,
   "id": "eb30a2fd-111a-4e26-a71b-047e53ddff15",
   "metadata": {},
   "outputs": [],
   "source": [
    "def collide(atom1, atom2):\n",
    "    dx = atom2.x - atom1.x\n",
    "    dy = atom2.y - atom1.y\n",
    "    distance = math.sqrt(dx**2 + dy**2)\n",
    "    \n",
    "    if distance < 2 * atom_radius:\n",
    "        angle = math.atan2(dy, dx)\n",
    "        angle1 = math.atan2(atom1.y - atom2.y, atom1.x - atom2.x)\n",
    "        angle2 = math.atan2(atom2.y - atom1.y, atom2.x - atom1.x)\n",
    "        \n",
    "        new_angle1 = angle1 + (angle - angle1) * 2\n",
    "        new_angle2 = angle2 + (angle - angle2) * 2\n",
    "\n",
    "        atom1.angle = new_angle1\n",
    "        atom2.angle = new_angle2\n",
    "\n",
    "        overlap = 2 * atom_radius - distance\n",
    "        atom1.x -= overlap * math.cos(angle)\n",
    "        atom1.y -= overlap * math.sin(angle)\n",
    "        atom2.x += overlap * math.cos(angle)\n",
    "        atom2.y += overlap * math.sin(angle)"
   ]
  },
  {
   "cell_type": "code",
   "execution_count": 4,
   "id": "16f6a021-7b84-42be-b165-59a5b719a0b9",
   "metadata": {
    "tags": []
   },
   "outputs": [],
   "source": [
    "def update_particle_speeds(particles, new_temperature):\n",
    "    for particle in particles:\n",
    "        old_speed = particle.speed\n",
    "        new_speed = math.sqrt(2 * boltzmann_constant * new_temperature / particle.mass)\n",
    "        particle.speed = new_speed * (old_speed / abs(old_speed) if old_speed != 0 else 1)"
   ]
  },
  {
   "cell_type": "code",
   "execution_count": 5,
   "id": "aad615da-1302-4207-915d-a543574c184d",
   "metadata": {
    "tags": []
   },
   "outputs": [],
   "source": [
    "def hist_update(v_lista):\n",
    "    mean = np.mean(v_lista)\n",
    "    std_dev = np.std(v_lista)\n",
    "    \n",
    "    # x_range = np.linspace(min(v_lista), max(v_lista), 100)\n",
    "    # y_values = norm.pdf(x_range, mean, std_dev)\n",
    "    \n",
    "    plt.figure(figsize=(7.05, 5.45))    \n",
    "    \n",
    "    plt.hist(v_lista, bins=30, color='blue', alpha=0.7)\n",
    "    # plt.plot(x_range, y_values, color='red')\n",
    "    \n",
    "    plt.xlabel('Velocidade')\n",
    "    plt.ylabel('Frequência')\n",
    "    plt.title('Velocidade das partículas')\n",
    "    plt.grid(True)\n",
    "    plt.tight_layout()\n",
    "    plt.savefig('figs/velocity_histogram.png')\n",
    "    plt.close()"
   ]
  },
  {
   "cell_type": "code",
   "execution_count": 6,
   "id": "a64835d6-375a-47b9-ad0f-93e1bf6f5248",
   "metadata": {},
   "outputs": [],
   "source": [
    "# Definições\n",
    "\n",
    "pygame.init()\n",
    "\n",
    "# Configurações da tela\n",
    "width, height = 1500, 600\n",
    "half_width = width // 2\n",
    "\n",
    "screen = pygame.display.set_mode((width, height))\n",
    "black = (0, 0, 0)\n",
    "white = (255,255,255)"
   ]
  },
  {
   "cell_type": "code",
   "execution_count": 7,
   "id": "f08245fa-bf36-42e4-96a4-6cf2dfdecdac",
   "metadata": {},
   "outputs": [],
   "source": [
    "atom_color = (255, 255, 255)\n",
    "\n",
    "temperature = 0\n",
    "atom_radius = 5\n",
    "num_atoms = 5\n",
    "atom_speed = 20\n",
    "\n",
    "# Comentei porque se não as velocidades serão muito pequenas\n",
    "# boltzmann_constant = 1.38e-23\n",
    "boltzmann_constant = 1"
   ]
  },
  {
   "cell_type": "code",
   "execution_count": 8,
   "id": "2f64319e-56ad-4cd3-94a3-6c81232df12f",
   "metadata": {},
   "outputs": [],
   "source": [
    "margem = 30\n",
    "\n",
    "box_left = margem\n",
    "box_right = (width - margem)//2\n",
    "box_top = margem\n",
    "box_bottom = height - margem\n",
    "\n",
    "bar_x = box_left - 15\n",
    "bar_top = box_top\n",
    "bar_bottom = box_bottom\n",
    "bar_width = 15\n",
    "bar_height = box_bottom - box_top\n",
    "\n",
    "min_temperature, max_temperature = 0, 100\n",
    "\n",
    "marker_y = bar_bottom"
   ]
  },
  {
   "cell_type": "code",
   "execution_count": 9,
   "id": "ad4490f7-14ae-4e7b-bf60-6c7c497d9d3d",
   "metadata": {
    "tags": []
   },
   "outputs": [],
   "source": [
    "atoms = [Atom(random.randint(box_left, box_right), random.randint(box_top, box_bottom), atom_radius) for _ in range(num_atoms)]"
   ]
  },
  {
   "cell_type": "code",
   "execution_count": 10,
   "id": "612bc37d-8034-4245-8687-4d2fea25dc64",
   "metadata": {
    "tags": []
   },
   "outputs": [],
   "source": [
    "clock = pygame.time.Clock()\n",
    "\n",
    "running = True\n",
    "hist_show = True\n",
    "\n",
    "while running:\n",
    "    \n",
    "    for event in pygame.event.get():\n",
    "        if event.type == pygame.QUIT:\n",
    "            running = False\n",
    "        elif event.type == pygame.KEYDOWN:\n",
    "            if event.key == pygame.K_UP:\n",
    "                temperature += 5\n",
    "                if temperature > max_temperature:\n",
    "                    temperature = max_temperature\n",
    "                update_particle_speeds(atoms, temperature)\n",
    "            elif event.key == pygame.K_DOWN:\n",
    "                temperature -= 5\n",
    "                if temperature < min_temperature:\n",
    "                    temperature = min_temperature\n",
    "                update_particle_speeds(atoms, temperature)\n",
    "            elif event.key == pygame.K_h:\n",
    "                if hist_show:\n",
    "                    hist_show = False\n",
    "                else:\n",
    "                    hist_show = True\n",
    "            elif event.key == pygame.K_ESCAPE:\n",
    "                running = False\n",
    "            \n",
    "    # Movimentação átomos\n",
    "    \n",
    "    velocidades = []\n",
    "    \n",
    "    for atom in atoms:\n",
    "        atom.move()\n",
    "        \n",
    "    for i in range(num_atoms):\n",
    "        for j in range(i + 1, num_atoms):\n",
    "            collide(atoms[i], atoms[j])\n",
    "    \n",
    "    # Definições da tela\n",
    "    \n",
    "    screen.fill(black)\n",
    "\n",
    "    for atom in atoms:\n",
    "        pygame.draw.circle(screen, atom_color, (int(atom.x), int(atom.y)), atom_radius)\n",
    "        velocidades.append(atom.speed)\n",
    "    \n",
    "    # Barra\n",
    "    \n",
    "    fill_percentage = (temperature - min_temperature) / (max_temperature - min_temperature)\n",
    "    fill_height = bar_height * fill_percentage\n",
    "    pygame.draw.rect(screen, white, (bar_x, bar_bottom - fill_height, bar_width, fill_height))\n",
    "    \n",
    "    pygame.draw.rect(screen, white, (box_left, box_top, box_right - box_left, box_bottom - box_top), 2)\n",
    "    \n",
    "    pygame.draw.rect(screen, white, (box_left + box_right, box_top, box_right - box_left, box_bottom - box_top), 2)\n",
    "    \n",
    "    if hist_show:\n",
    "        hist_update(velocidades)\n",
    "        image = pygame.image.load('figs/velocity_histogram.png').convert_alpha()\n",
    "        scaled_image = pygame.transform.scale(image, (703, 540))\n",
    "        screen.blit(scaled_image, ((box_right+box_left), box_top))\n",
    "    \n",
    "    pygame.display.flip()\n",
    "    \n",
    "    pygame.display.set_caption(f\"Simulação atomística | {temperature} K\")\n",
    "    \n",
    "    clock.tick(60)\n",
    "\n",
    "pygame.quit()"
   ]
  }
 ],
 "metadata": {
  "kernelspec": {
   "display_name": "zanipy",
   "language": "python",
   "name": "zanipy"
  },
  "language_info": {
   "codemirror_mode": {
    "name": "ipython",
    "version": 3
   },
   "file_extension": ".py",
   "mimetype": "text/x-python",
   "name": "python",
   "nbconvert_exporter": "python",
   "pygments_lexer": "ipython3",
   "version": "3.10.6"
  }
 },
 "nbformat": 4,
 "nbformat_minor": 5
}
