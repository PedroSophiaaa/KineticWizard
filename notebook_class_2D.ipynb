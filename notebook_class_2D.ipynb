{
 "cells": [
  {
   "cell_type": "code",
   "execution_count": 1026,
   "metadata": {},
   "outputs": [],
   "source": [
    "import numpy as np\n",
    "import random as rd\n",
    "from math import ceil\n",
    "\n",
    "from collections import defaultdict\n",
    "\n",
    "import pygame\n",
    "\n",
    "seed = 42\n",
    "rd.seed(seed)"
   ]
  },
  {
   "attachments": {},
   "cell_type": "markdown",
   "metadata": {},
   "source": [
    "### Definindo constantes"
   ]
  },
  {
   "cell_type": "code",
   "execution_count": 1027,
   "metadata": {},
   "outputs": [],
   "source": [
    "N_H = 50\n",
    "N_O = ceil(N_H/2)"
   ]
  },
  {
   "cell_type": "code",
   "execution_count": 1028,
   "metadata": {},
   "outputs": [],
   "source": [
    "SCALE = 7.2"
   ]
  },
  {
   "cell_type": "code",
   "execution_count": 1029,
   "metadata": {},
   "outputs": [],
   "source": [
    "BOX_SIZE = [150,100]"
   ]
  },
  {
   "cell_type": "code",
   "execution_count": 1030,
   "metadata": {},
   "outputs": [],
   "source": [
    "TEMP = 1\n",
    "MAX_SPEED, MIN_SPEED = -20,20\n",
    "\n",
    "TIME_STEP = 0.01"
   ]
  },
  {
   "cell_type": "code",
   "execution_count": 1031,
   "metadata": {},
   "outputs": [],
   "source": [
    "BOX_SIZE = np.array(BOX_SIZE) * SCALE\n",
    "MAX_SPEED, MIN_SPEED = MAX_SPEED*SCALE, MIN_SPEED*SCALE"
   ]
  },
  {
   "cell_type": "code",
   "execution_count": 1032,
   "metadata": {},
   "outputs": [],
   "source": [
    "H_INFOS = {\n",
    "    'radius': 1*SCALE,\n",
    "    'mass': 1\n",
    "}\n",
    "\n",
    "O_INFOS = {\n",
    "    'radius': 2*SCALE,\n",
    "    'mass': 16\n",
    "}"
   ]
  },
  {
   "attachments": {},
   "cell_type": "markdown",
   "metadata": {},
   "source": [
    "### Definindo a classe de partículas"
   ]
  },
  {
   "cell_type": "code",
   "execution_count": 1033,
   "metadata": {},
   "outputs": [],
   "source": [
    "class Atom:\n",
    "    def __init__(self, pos, radius, mass, type):\n",
    "        self.type = type\n",
    "\n",
    "        self.pos = np.array(pos)\n",
    "        self.radius = radius\n",
    "        self.mass = mass\n",
    "        self.speed = np.array([rd.uniform(MIN_SPEED, MAX_SPEED), rd.uniform(MIN_SPEED, MAX_SPEED)]) * TEMP\n",
    "        self.accel = 0\n",
    "\n",
    "        self.momentum = mass * self.speed\n",
    "    \n",
    "    def move(self):\n",
    "        self.speed = self.speed + self.accel*TIME_STEP\n",
    "        self.pos = self.pos + self.speed*TIME_STEP\n",
    "\n",
    "        # Checking box collisions\n",
    "        if self.pos[0] - self.radius < 0:\n",
    "            self.speed[0] = abs(self.speed[0])  # Invert x-speed to bounce off the left wall\n",
    "        if self.pos[0] + self.radius > BOX_SIZE[0]:\n",
    "            self.speed[0] = -abs(self.speed[0])  # Invert x-speed to bounce off the right wall\n",
    "\n",
    "        if self.pos[1] - self.radius < 0:\n",
    "            self.speed[1] = abs(self.speed[1])  # Invert y-speed to bounce off the top wall\n",
    "        if self.pos[1] + self.radius > BOX_SIZE[1]:\n",
    "            self.speed[1] = -abs(self.speed[1])  # Invert y-speed to bounce off the bottom wall\n",
    "\n",
    "    def calculate_new_velocity(self, other_atom):\n",
    "        v_relative = self.speed - other_atom.speed\n",
    "        x_relative = self.pos - other_atom.pos\n",
    "        x_relative_magnitude_sq = np.dot(x_relative, x_relative)\n",
    "        \n",
    "        factor = (2 * other_atom.mass) / (self.mass + other_atom.mass) * np.dot(v_relative, x_relative) / x_relative_magnitude_sq\n",
    "        new_velocity = self.speed - factor * x_relative\n",
    "        \n",
    "        return new_velocity\n",
    "    \n",
    "    def collide(self, other_atom):\n",
    "        if self == other_atom:\n",
    "            return\n",
    "        \n",
    "        new_self_velocity = self.calculate_new_velocity(other_atom)\n",
    "        self.speed = new_self_velocity\n",
    "    \n",
    "        new_other_velocity = other_atom.calculate_new_velocity(self)\n",
    "        other_atom.speed = new_other_velocity\n",
    "\n",
    "        # Adjust positions to avoid overlap\n",
    "        overlap = self.radius + other_atom.radius - np.linalg.norm(self.pos - other_atom.pos)\n",
    "        if overlap > 0:\n",
    "            direction = (self.pos - other_atom.pos) / np.linalg.norm(self.pos - other_atom.pos)\n",
    "            self.pos += 0.5 * overlap * direction\n",
    "            other_atom.pos -= 0.5 * overlap * direction"
   ]
  },
  {
   "attachments": {},
   "cell_type": "markdown",
   "metadata": {},
   "source": [
    "### Instanciando as partículas"
   ]
  },
  {
   "cell_type": "code",
   "execution_count": 1034,
   "metadata": {},
   "outputs": [],
   "source": [
    "particles = {}\n",
    "\n",
    "min_distance = 10\n",
    "\n",
    "def calculate_max_particles_y(radius):\n",
    "    return (BOX_SIZE[1] - 2 * radius) // (2 * radius + min_distance)\n",
    "\n",
    "for h in range(N_H):\n",
    "    max_particles_x = (BOX_SIZE[0] - 2 * H_INFOS['radius']) // (2 * H_INFOS['radius'] + min_distance)\n",
    "    max_particles_y = calculate_max_particles_y(H_INFOS['radius'])\n",
    "\n",
    "    column = h // max_particles_y\n",
    "    row = h % max_particles_y\n",
    "\n",
    "    x_position = BOX_SIZE[0] * 0.05 + column * (2 * H_INFOS['radius'] + min_distance)\n",
    "    y_position = (BOX_SIZE[1] / (max_particles_y + 1)) * (row + 1)\n",
    "    \n",
    "    particles[f'H{h+1}'] = Atom((x_position, y_position), H_INFOS['radius'], H_INFOS['mass'], 'Hydrogen')\n",
    "\n",
    "for o in range(N_O):\n",
    "    max_particles_x = (BOX_SIZE[0] - 2 * O_INFOS['radius']) // (2 * O_INFOS['radius'] + min_distance)\n",
    "    max_particles_y = calculate_max_particles_y(O_INFOS['radius'])\n",
    "\n",
    "    column = o // max_particles_y\n",
    "    row = o % max_particles_y\n",
    "\n",
    "    x_position = BOX_SIZE[0] - BOX_SIZE[0] * 0.05 - column * (2 * O_INFOS['radius'] + min_distance)\n",
    "    y_position = (BOX_SIZE[1] / (max_particles_y + 1)) * (row + 1)\n",
    "\n",
    "    particles[f'O{o+1}'] = Atom((x_position, y_position), O_INFOS['radius'], O_INFOS['mass'], 'Oxygen')\n"
   ]
  },
  {
   "attachments": {},
   "cell_type": "markdown",
   "metadata": {},
   "source": [
    "## Iniciando a simulação no PyGame"
   ]
  },
  {
   "cell_type": "code",
   "execution_count": 1035,
   "metadata": {},
   "outputs": [],
   "source": [
    "# Initialize Pygame\n",
    "pygame.init()\n",
    "\n",
    "# Create screen\n",
    "screen = pygame.display.set_mode(BOX_SIZE)\n",
    "pygame.display.set_caption(\"Particles Simulation\")\n",
    "\n",
    "# Main loop\n",
    "running = True\n",
    "clock = pygame.time.Clock()\n",
    "\n",
    "while running:\n",
    "    for event in pygame.event.get():\n",
    "        if event.type == pygame.QUIT:\n",
    "            running = False\n",
    "    \n",
    "    # Clear the screen\n",
    "    screen.fill((50, 50, 50))\n",
    "    \n",
    "    # Move and draw particles\n",
    "    for particle_name, particle in particles.items():\n",
    "        particle.move()\n",
    "        color = (255, 255, 255) if particle.type == 'Hydrogen' else (255, 0, 0)\n",
    "        pygame.draw.circle(screen, color, particle.pos.astype(int), particle.radius)\n",
    "    \n",
    "    # Check for collisions and apply them\n",
    "    for particle_name, particle in particles.items():\n",
    "        for other_particle_name, other_particle in particles.items():\n",
    "            if particle_name != other_particle_name:\n",
    "                if np.linalg.norm(particle.pos - other_particle.pos) <= (particle.radius + other_particle.radius):\n",
    "                    particle.collide(other_particle)\n",
    "\n",
    "    # Update the display\n",
    "    pygame.display.flip()\n",
    "\n",
    "    # Cap the frame rate\n",
    "    clock.tick(120)\n",
    "\n",
    "# Clean up\n",
    "pygame.quit()"
   ]
  }
 ],
 "metadata": {
  "kernelspec": {
   "display_name": "Python 3",
   "language": "python",
   "name": "python3"
  },
  "language_info": {
   "codemirror_mode": {
    "name": "ipython",
    "version": 3
   },
   "file_extension": ".py",
   "mimetype": "text/x-python",
   "name": "python",
   "nbconvert_exporter": "python",
   "pygments_lexer": "ipython3",
   "version": "3.11.3"
  },
  "orig_nbformat": 4
 },
 "nbformat": 4,
 "nbformat_minor": 2
}
